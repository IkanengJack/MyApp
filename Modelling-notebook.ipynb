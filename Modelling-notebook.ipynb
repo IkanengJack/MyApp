{
 "cells": [
  {
   "cell_type": "markdown",
   "id": "edd1457a",
   "metadata": {},
   "source": [
    "### MODELING AND MODEL DEVELOPMENT"
   ]
  },
  {
   "cell_type": "code",
   "execution_count": 2,
   "id": "a99ae7cc",
   "metadata": {},
   "outputs": [],
   "source": [
    "#import needed modules\n",
    "%matplotlib notebook\n",
    "import numpy as np\n",
    "import pandas as pd\n",
    "import matplotlib.pyplot as plt\n",
    "import seaborn as sns"
   ]
  },
  {
   "cell_type": "code",
   "execution_count": 2,
   "id": "3fc559de",
   "metadata": {},
   "outputs": [],
   "source": [
    "# import regression module\n",
    "from sklearn.linear_model import LinearRegression\n",
    "# create model object\n",
    "lm = LinearRegression()"
   ]
  },
  {
   "cell_type": "code",
   "execution_count": 37,
   "id": "533eb2a1",
   "metadata": {},
   "outputs": [],
   "source": [
    "# import train/test split module\n",
    "from sklearn.model_selection import train_test_split"
   ]
  },
  {
   "cell_type": "code",
   "execution_count": 4,
   "id": "4f3d26d3",
   "metadata": {},
   "outputs": [],
   "source": [
    "#load the file\n",
    "df= pd.read_csv('Uptake.csv')"
   ]
  },
  {
   "cell_type": "code",
   "execution_count": 5,
   "id": "fc992064",
   "metadata": {},
   "outputs": [
    {
     "name": "stdout",
     "output_type": "stream",
     "text": [
      "<class 'pandas.core.frame.DataFrame'>\n",
      "RangeIndex: 60 entries, 0 to 59\n",
      "Data columns (total 12 columns):\n",
      " #   Column                Non-Null Count  Dtype  \n",
      "---  ------                --------------  -----  \n",
      " 0   District              60 non-null     object \n",
      " 1   Region                60 non-null     object \n",
      " 2   Population            60 non-null     object \n",
      " 3   Total_households      60 non-null     object \n",
      " 4   Population_density    60 non-null     object \n",
      " 5   Zonning               60 non-null     object \n",
      " 6   Avg_Age               60 non-null     float64\n",
      " 7   literacy_rate_%       60 non-null     float64\n",
      " 8   people_per_household  60 non-null     float64\n",
      " 9   Employment_rate       60 non-null     object \n",
      " 10  speed_test_count      60 non-null     int64  \n",
      " 11  tests_per_population  60 non-null     object \n",
      "dtypes: float64(3), int64(1), object(8)\n",
      "memory usage: 5.8+ KB\n"
     ]
    }
   ],
   "source": [
    "df.info()"
   ]
  },
  {
   "cell_type": "code",
   "execution_count": 6,
   "id": "847e4242",
   "metadata": {},
   "outputs": [
    {
     "data": {
      "text/html": [
       "<div>\n",
       "<style scoped>\n",
       "    .dataframe tbody tr th:only-of-type {\n",
       "        vertical-align: middle;\n",
       "    }\n",
       "\n",
       "    .dataframe tbody tr th {\n",
       "        vertical-align: top;\n",
       "    }\n",
       "\n",
       "    .dataframe thead th {\n",
       "        text-align: right;\n",
       "    }\n",
       "</style>\n",
       "<table border=\"1\" class=\"dataframe\">\n",
       "  <thead>\n",
       "    <tr style=\"text-align: right;\">\n",
       "      <th></th>\n",
       "      <th>District</th>\n",
       "      <th>Region</th>\n",
       "      <th>Population</th>\n",
       "      <th>Total_households</th>\n",
       "      <th>Population_density</th>\n",
       "      <th>Zonning</th>\n",
       "      <th>Avg_Age</th>\n",
       "      <th>literacy_rate_%</th>\n",
       "      <th>people_per_household</th>\n",
       "      <th>Employment_rate</th>\n",
       "      <th>speed_test_count</th>\n",
       "      <th>tests_per_population</th>\n",
       "    </tr>\n",
       "  </thead>\n",
       "  <tbody>\n",
       "    <tr>\n",
       "      <th>0</th>\n",
       "      <td>Kampala</td>\n",
       "      <td>Central</td>\n",
       "      <td>1,680,600</td>\n",
       "      <td>462,400</td>\n",
       "      <td>229</td>\n",
       "      <td>urban</td>\n",
       "      <td>15.9</td>\n",
       "      <td>75.0</td>\n",
       "      <td>3.6</td>\n",
       "      <td>69.5</td>\n",
       "      <td>6629</td>\n",
       "      <td>0.3944%</td>\n",
       "    </tr>\n",
       "    <tr>\n",
       "      <th>1</th>\n",
       "      <td>Buikwe</td>\n",
       "      <td>Central</td>\n",
       "      <td>474,100</td>\n",
       "      <td>114,100</td>\n",
       "      <td>366.4</td>\n",
       "      <td>town</td>\n",
       "      <td>16.0</td>\n",
       "      <td>75.0</td>\n",
       "      <td>4.2</td>\n",
       "      <td>65</td>\n",
       "      <td>155</td>\n",
       "      <td>0.0327%</td>\n",
       "    </tr>\n",
       "    <tr>\n",
       "      <th>2</th>\n",
       "      <td>Wakiso</td>\n",
       "      <td>Central</td>\n",
       "      <td>2,915,200</td>\n",
       "      <td>730,800</td>\n",
       "      <td>1,500</td>\n",
       "      <td>urban</td>\n",
       "      <td>17.0</td>\n",
       "      <td>81.0</td>\n",
       "      <td>4.0</td>\n",
       "      <td>35</td>\n",
       "      <td>2116</td>\n",
       "      <td>0.0726%</td>\n",
       "    </tr>\n",
       "    <tr>\n",
       "      <th>3</th>\n",
       "      <td>Gulu</td>\n",
       "      <td>Northern</td>\n",
       "      <td>325,600</td>\n",
       "      <td>65,600</td>\n",
       "      <td>89.1</td>\n",
       "      <td>urban</td>\n",
       "      <td>17.0</td>\n",
       "      <td>75.0</td>\n",
       "      <td>5.0</td>\n",
       "      <td>67.4</td>\n",
       "      <td>341</td>\n",
       "      <td>0.1047%</td>\n",
       "    </tr>\n",
       "    <tr>\n",
       "      <th>4</th>\n",
       "      <td>Mukono</td>\n",
       "      <td>Central</td>\n",
       "      <td>701,400</td>\n",
       "      <td>174,900</td>\n",
       "      <td>379.1</td>\n",
       "      <td>Mixed</td>\n",
       "      <td>17.0</td>\n",
       "      <td>75.0</td>\n",
       "      <td>4.0</td>\n",
       "      <td>66</td>\n",
       "      <td>119</td>\n",
       "      <td>0.0170%</td>\n",
       "    </tr>\n",
       "  </tbody>\n",
       "</table>\n",
       "</div>"
      ],
      "text/plain": [
       "  District     Region Population Total_households Population_density Zonning  \\\n",
       "0   Kampala   Central  1,680,600          462,400                229   urban   \n",
       "1    Buikwe   Central    474,100          114,100              366.4    town   \n",
       "2   Wakiso    Central  2,915,200          730,800              1,500   urban   \n",
       "3      Gulu  Northern    325,600           65,600               89.1   urban   \n",
       "4    Mukono   Central    701,400          174,900              379.1   Mixed   \n",
       "\n",
       "   Avg_Age  literacy_rate_%  people_per_household Employment_rate  \\\n",
       "0     15.9             75.0                   3.6            69.5   \n",
       "1     16.0             75.0                   4.2              65   \n",
       "2     17.0             81.0                   4.0              35   \n",
       "3     17.0             75.0                   5.0            67.4   \n",
       "4     17.0             75.0                   4.0              66   \n",
       "\n",
       "   speed_test_count tests_per_population  \n",
       "0              6629              0.3944%  \n",
       "1               155              0.0327%  \n",
       "2              2116              0.0726%  \n",
       "3               341              0.1047%  \n",
       "4               119              0.0170%  "
      ]
     },
     "execution_count": 6,
     "metadata": {},
     "output_type": "execute_result"
    }
   ],
   "source": [
    "df.head()"
   ]
  },
  {
   "cell_type": "code",
   "execution_count": 9,
   "id": "bba319b7",
   "metadata": {},
   "outputs": [],
   "source": [
    "df.replace(',','', regex=True, inplace=True)\n",
    "df.replace('%','', regex=True, inplace=True)"
   ]
  },
  {
   "cell_type": "code",
   "execution_count": null,
   "id": "482cacc4",
   "metadata": {},
   "outputs": [],
   "source": []
  },
  {
   "cell_type": "code",
   "execution_count": 10,
   "id": "7e16f62b",
   "metadata": {},
   "outputs": [
    {
     "data": {
      "text/html": [
       "<div>\n",
       "<style scoped>\n",
       "    .dataframe tbody tr th:only-of-type {\n",
       "        vertical-align: middle;\n",
       "    }\n",
       "\n",
       "    .dataframe tbody tr th {\n",
       "        vertical-align: top;\n",
       "    }\n",
       "\n",
       "    .dataframe thead th {\n",
       "        text-align: right;\n",
       "    }\n",
       "</style>\n",
       "<table border=\"1\" class=\"dataframe\">\n",
       "  <thead>\n",
       "    <tr style=\"text-align: right;\">\n",
       "      <th></th>\n",
       "      <th>District</th>\n",
       "      <th>Region</th>\n",
       "      <th>Population</th>\n",
       "      <th>Total_households</th>\n",
       "      <th>Population_density</th>\n",
       "      <th>Zonning</th>\n",
       "      <th>Avg_Age</th>\n",
       "      <th>literacy_rate_%</th>\n",
       "      <th>people_per_household</th>\n",
       "      <th>Employment_rate</th>\n",
       "      <th>speed_test_count</th>\n",
       "      <th>tests_per_population</th>\n",
       "    </tr>\n",
       "  </thead>\n",
       "  <tbody>\n",
       "    <tr>\n",
       "      <th>0</th>\n",
       "      <td>Kampala</td>\n",
       "      <td>Central</td>\n",
       "      <td>1680600</td>\n",
       "      <td>462400</td>\n",
       "      <td>229</td>\n",
       "      <td>urban</td>\n",
       "      <td>15.9</td>\n",
       "      <td>75.0</td>\n",
       "      <td>3.6</td>\n",
       "      <td>69.5</td>\n",
       "      <td>6629</td>\n",
       "      <td>0.3944</td>\n",
       "    </tr>\n",
       "    <tr>\n",
       "      <th>1</th>\n",
       "      <td>Buikwe</td>\n",
       "      <td>Central</td>\n",
       "      <td>474100</td>\n",
       "      <td>114100</td>\n",
       "      <td>366.4</td>\n",
       "      <td>town</td>\n",
       "      <td>16.0</td>\n",
       "      <td>75.0</td>\n",
       "      <td>4.2</td>\n",
       "      <td>65</td>\n",
       "      <td>155</td>\n",
       "      <td>0.0327</td>\n",
       "    </tr>\n",
       "    <tr>\n",
       "      <th>2</th>\n",
       "      <td>Wakiso</td>\n",
       "      <td>Central</td>\n",
       "      <td>2915200</td>\n",
       "      <td>730800</td>\n",
       "      <td>1500</td>\n",
       "      <td>urban</td>\n",
       "      <td>17.0</td>\n",
       "      <td>81.0</td>\n",
       "      <td>4.0</td>\n",
       "      <td>35</td>\n",
       "      <td>2116</td>\n",
       "      <td>0.0726</td>\n",
       "    </tr>\n",
       "    <tr>\n",
       "      <th>3</th>\n",
       "      <td>Gulu</td>\n",
       "      <td>Northern</td>\n",
       "      <td>325600</td>\n",
       "      <td>65600</td>\n",
       "      <td>89.1</td>\n",
       "      <td>urban</td>\n",
       "      <td>17.0</td>\n",
       "      <td>75.0</td>\n",
       "      <td>5.0</td>\n",
       "      <td>67.4</td>\n",
       "      <td>341</td>\n",
       "      <td>0.1047</td>\n",
       "    </tr>\n",
       "    <tr>\n",
       "      <th>4</th>\n",
       "      <td>Mukono</td>\n",
       "      <td>Central</td>\n",
       "      <td>701400</td>\n",
       "      <td>174900</td>\n",
       "      <td>379.1</td>\n",
       "      <td>Mixed</td>\n",
       "      <td>17.0</td>\n",
       "      <td>75.0</td>\n",
       "      <td>4.0</td>\n",
       "      <td>66</td>\n",
       "      <td>119</td>\n",
       "      <td>0.0170</td>\n",
       "    </tr>\n",
       "  </tbody>\n",
       "</table>\n",
       "</div>"
      ],
      "text/plain": [
       "  District     Region Population Total_households Population_density Zonning  \\\n",
       "0   Kampala   Central    1680600           462400                229   urban   \n",
       "1    Buikwe   Central     474100           114100              366.4    town   \n",
       "2   Wakiso    Central    2915200           730800               1500   urban   \n",
       "3      Gulu  Northern     325600            65600               89.1   urban   \n",
       "4    Mukono   Central     701400           174900              379.1   Mixed   \n",
       "\n",
       "   Avg_Age  literacy_rate_%  people_per_household Employment_rate  \\\n",
       "0     15.9             75.0                   3.6            69.5   \n",
       "1     16.0             75.0                   4.2              65   \n",
       "2     17.0             81.0                   4.0              35   \n",
       "3     17.0             75.0                   5.0            67.4   \n",
       "4     17.0             75.0                   4.0              66   \n",
       "\n",
       "   speed_test_count tests_per_population  \n",
       "0              6629               0.3944  \n",
       "1               155               0.0327  \n",
       "2              2116               0.0726  \n",
       "3               341               0.1047  \n",
       "4               119               0.0170  "
      ]
     },
     "execution_count": 10,
     "metadata": {},
     "output_type": "execute_result"
    }
   ],
   "source": [
    "df.head()"
   ]
  },
  {
   "cell_type": "code",
   "execution_count": 11,
   "id": "8755687f",
   "metadata": {},
   "outputs": [
    {
     "name": "stdout",
     "output_type": "stream",
     "text": [
      "<class 'pandas.core.frame.DataFrame'>\n",
      "RangeIndex: 60 entries, 0 to 59\n",
      "Data columns (total 12 columns):\n",
      " #   Column                Non-Null Count  Dtype  \n",
      "---  ------                --------------  -----  \n",
      " 0   District              60 non-null     object \n",
      " 1   Region                60 non-null     object \n",
      " 2   Population            60 non-null     object \n",
      " 3   Total_households      60 non-null     object \n",
      " 4   Population_density    60 non-null     object \n",
      " 5   Zonning               60 non-null     object \n",
      " 6   Avg_Age               60 non-null     float64\n",
      " 7   literacy_rate_%       60 non-null     float64\n",
      " 8   people_per_household  60 non-null     float64\n",
      " 9   Employment_rate       60 non-null     object \n",
      " 10  speed_test_count      60 non-null     int64  \n",
      " 11  tests_per_population  60 non-null     object \n",
      "dtypes: float64(3), int64(1), object(8)\n",
      "memory usage: 5.8+ KB\n"
     ]
    }
   ],
   "source": [
    "df.info()"
   ]
  },
  {
   "cell_type": "code",
   "execution_count": 14,
   "id": "1623412d",
   "metadata": {},
   "outputs": [],
   "source": [
    "c = ['Population','Total_households', 'Population_density', 'Employment_rate',\n",
    "       'tests_per_population']\n",
    "df[c] = df[c].apply(pd.to_numeric,errors='coerce')"
   ]
  },
  {
   "cell_type": "code",
   "execution_count": 15,
   "id": "8b86c8ce",
   "metadata": {},
   "outputs": [
    {
     "name": "stdout",
     "output_type": "stream",
     "text": [
      "<class 'pandas.core.frame.DataFrame'>\n",
      "RangeIndex: 60 entries, 0 to 59\n",
      "Data columns (total 12 columns):\n",
      " #   Column                Non-Null Count  Dtype  \n",
      "---  ------                --------------  -----  \n",
      " 0   District              60 non-null     object \n",
      " 1   Region                60 non-null     object \n",
      " 2   Population            60 non-null     int64  \n",
      " 3   Total_households      60 non-null     int64  \n",
      " 4   Population_density    60 non-null     float64\n",
      " 5   Zonning               60 non-null     object \n",
      " 6   Avg_Age               60 non-null     float64\n",
      " 7   literacy_rate_%       60 non-null     float64\n",
      " 8   people_per_household  60 non-null     float64\n",
      " 9   Employment_rate       60 non-null     float64\n",
      " 10  speed_test_count      60 non-null     int64  \n",
      " 11  tests_per_population  60 non-null     float64\n",
      "dtypes: float64(6), int64(3), object(3)\n",
      "memory usage: 5.8+ KB\n"
     ]
    }
   ],
   "source": [
    "df.info()"
   ]
  },
  {
   "cell_type": "code",
   "execution_count": 16,
   "id": "e5ebbf33",
   "metadata": {},
   "outputs": [
    {
     "data": {
      "text/plain": [
       "Western     20\n",
       "Central     16\n",
       "Northern    15\n",
       "Eastern      9\n",
       "Name: Region, dtype: int64"
      ]
     },
     "execution_count": 16,
     "metadata": {},
     "output_type": "execute_result"
    }
   ],
   "source": [
    "df.Region.value_counts()"
   ]
  },
  {
   "cell_type": "code",
   "execution_count": 17,
   "id": "b0feba6f",
   "metadata": {},
   "outputs": [
    {
     "data": {
      "text/plain": [
       "Mixed    47\n",
       "Rural     4\n",
       "urban     3\n",
       "mixed     2\n",
       "Town      2\n",
       "town      1\n",
       "Urban     1\n",
       "Name: Zonning, dtype: int64"
      ]
     },
     "execution_count": 17,
     "metadata": {},
     "output_type": "execute_result"
    }
   ],
   "source": [
    "df.Zonning.value_counts()"
   ]
  },
  {
   "cell_type": "code",
   "execution_count": 18,
   "id": "42386e4e",
   "metadata": {},
   "outputs": [],
   "source": [
    "df['Zonning']= df['Zonning'].apply(str.lower)"
   ]
  },
  {
   "cell_type": "code",
   "execution_count": 19,
   "id": "27fd6e74",
   "metadata": {},
   "outputs": [
    {
     "data": {
      "text/plain": [
       "mixed    49\n",
       "urban     4\n",
       "rural     4\n",
       "town      3\n",
       "Name: Zonning, dtype: int64"
      ]
     },
     "execution_count": 19,
     "metadata": {},
     "output_type": "execute_result"
    }
   ],
   "source": [
    "df.Zonning.value_counts()"
   ]
  },
  {
   "cell_type": "code",
   "execution_count": 21,
   "id": "1974ec40",
   "metadata": {},
   "outputs": [],
   "source": [
    "df['Region'].replace(['Central','Eastern','Northern','Western'], [1,2,3,4], inplace= True)\n",
    "df['Zonning'].replace(['mixed','urban','rural','town'], [1,2,3,4], inplace=True)"
   ]
  },
  {
   "cell_type": "code",
   "execution_count": 22,
   "id": "ed23b643",
   "metadata": {},
   "outputs": [
    {
     "data": {
      "text/html": [
       "<div>\n",
       "<style scoped>\n",
       "    .dataframe tbody tr th:only-of-type {\n",
       "        vertical-align: middle;\n",
       "    }\n",
       "\n",
       "    .dataframe tbody tr th {\n",
       "        vertical-align: top;\n",
       "    }\n",
       "\n",
       "    .dataframe thead th {\n",
       "        text-align: right;\n",
       "    }\n",
       "</style>\n",
       "<table border=\"1\" class=\"dataframe\">\n",
       "  <thead>\n",
       "    <tr style=\"text-align: right;\">\n",
       "      <th></th>\n",
       "      <th>District</th>\n",
       "      <th>Region</th>\n",
       "      <th>Population</th>\n",
       "      <th>Total_households</th>\n",
       "      <th>Population_density</th>\n",
       "      <th>Zonning</th>\n",
       "      <th>Avg_Age</th>\n",
       "      <th>literacy_rate_%</th>\n",
       "      <th>people_per_household</th>\n",
       "      <th>Employment_rate</th>\n",
       "      <th>speed_test_count</th>\n",
       "      <th>tests_per_population</th>\n",
       "    </tr>\n",
       "  </thead>\n",
       "  <tbody>\n",
       "    <tr>\n",
       "      <th>0</th>\n",
       "      <td>Kampala</td>\n",
       "      <td>1</td>\n",
       "      <td>1680600</td>\n",
       "      <td>462400</td>\n",
       "      <td>229.0</td>\n",
       "      <td>2</td>\n",
       "      <td>15.9</td>\n",
       "      <td>75.0</td>\n",
       "      <td>3.6</td>\n",
       "      <td>69.5</td>\n",
       "      <td>6629</td>\n",
       "      <td>0.3944</td>\n",
       "    </tr>\n",
       "    <tr>\n",
       "      <th>1</th>\n",
       "      <td>Buikwe</td>\n",
       "      <td>1</td>\n",
       "      <td>474100</td>\n",
       "      <td>114100</td>\n",
       "      <td>366.4</td>\n",
       "      <td>4</td>\n",
       "      <td>16.0</td>\n",
       "      <td>75.0</td>\n",
       "      <td>4.2</td>\n",
       "      <td>65.0</td>\n",
       "      <td>155</td>\n",
       "      <td>0.0327</td>\n",
       "    </tr>\n",
       "    <tr>\n",
       "      <th>2</th>\n",
       "      <td>Wakiso</td>\n",
       "      <td>1</td>\n",
       "      <td>2915200</td>\n",
       "      <td>730800</td>\n",
       "      <td>1500.0</td>\n",
       "      <td>2</td>\n",
       "      <td>17.0</td>\n",
       "      <td>81.0</td>\n",
       "      <td>4.0</td>\n",
       "      <td>35.0</td>\n",
       "      <td>2116</td>\n",
       "      <td>0.0726</td>\n",
       "    </tr>\n",
       "    <tr>\n",
       "      <th>3</th>\n",
       "      <td>Gulu</td>\n",
       "      <td>3</td>\n",
       "      <td>325600</td>\n",
       "      <td>65600</td>\n",
       "      <td>89.1</td>\n",
       "      <td>2</td>\n",
       "      <td>17.0</td>\n",
       "      <td>75.0</td>\n",
       "      <td>5.0</td>\n",
       "      <td>67.4</td>\n",
       "      <td>341</td>\n",
       "      <td>0.1047</td>\n",
       "    </tr>\n",
       "    <tr>\n",
       "      <th>4</th>\n",
       "      <td>Mukono</td>\n",
       "      <td>1</td>\n",
       "      <td>701400</td>\n",
       "      <td>174900</td>\n",
       "      <td>379.1</td>\n",
       "      <td>1</td>\n",
       "      <td>17.0</td>\n",
       "      <td>75.0</td>\n",
       "      <td>4.0</td>\n",
       "      <td>66.0</td>\n",
       "      <td>119</td>\n",
       "      <td>0.0170</td>\n",
       "    </tr>\n",
       "  </tbody>\n",
       "</table>\n",
       "</div>"
      ],
      "text/plain": [
       "  District   Region  Population  Total_households  Population_density  \\\n",
       "0   Kampala       1     1680600            462400               229.0   \n",
       "1    Buikwe       1      474100            114100               366.4   \n",
       "2   Wakiso        1     2915200            730800              1500.0   \n",
       "3      Gulu       3      325600             65600                89.1   \n",
       "4    Mukono       1      701400            174900               379.1   \n",
       "\n",
       "   Zonning  Avg_Age  literacy_rate_%  people_per_household  Employment_rate  \\\n",
       "0        2     15.9             75.0                   3.6             69.5   \n",
       "1        4     16.0             75.0                   4.2             65.0   \n",
       "2        2     17.0             81.0                   4.0             35.0   \n",
       "3        2     17.0             75.0                   5.0             67.4   \n",
       "4        1     17.0             75.0                   4.0             66.0   \n",
       "\n",
       "   speed_test_count  tests_per_population  \n",
       "0              6629                0.3944  \n",
       "1               155                0.0327  \n",
       "2              2116                0.0726  \n",
       "3               341                0.1047  \n",
       "4               119                0.0170  "
      ]
     },
     "execution_count": 22,
     "metadata": {},
     "output_type": "execute_result"
    }
   ],
   "source": [
    "df.head()"
   ]
  },
  {
   "cell_type": "code",
   "execution_count": 23,
   "id": "669660e6",
   "metadata": {},
   "outputs": [
    {
     "name": "stdout",
     "output_type": "stream",
     "text": [
      "<class 'pandas.core.frame.DataFrame'>\n",
      "RangeIndex: 60 entries, 0 to 59\n",
      "Data columns (total 12 columns):\n",
      " #   Column                Non-Null Count  Dtype  \n",
      "---  ------                --------------  -----  \n",
      " 0   District              60 non-null     object \n",
      " 1   Region                60 non-null     int64  \n",
      " 2   Population            60 non-null     int64  \n",
      " 3   Total_households      60 non-null     int64  \n",
      " 4   Population_density    60 non-null     float64\n",
      " 5   Zonning               60 non-null     int64  \n",
      " 6   Avg_Age               60 non-null     float64\n",
      " 7   literacy_rate_%       60 non-null     float64\n",
      " 8   people_per_household  60 non-null     float64\n",
      " 9   Employment_rate       60 non-null     float64\n",
      " 10  speed_test_count      60 non-null     int64  \n",
      " 11  tests_per_population  60 non-null     float64\n",
      "dtypes: float64(6), int64(5), object(1)\n",
      "memory usage: 5.8+ KB\n"
     ]
    }
   ],
   "source": [
    "df.info()"
   ]
  },
  {
   "cell_type": "code",
   "execution_count": 24,
   "id": "db6b99c1",
   "metadata": {},
   "outputs": [],
   "source": [
    "df.rename(columns= {'tests_per_population': 'uptake_rate'}, inplace=True)"
   ]
  },
  {
   "cell_type": "code",
   "execution_count": 34,
   "id": "8e82af63",
   "metadata": {
    "scrolled": true
   },
   "outputs": [
    {
     "data": {
      "text/html": [
       "<div>\n",
       "<style scoped>\n",
       "    .dataframe tbody tr th:only-of-type {\n",
       "        vertical-align: middle;\n",
       "    }\n",
       "\n",
       "    .dataframe tbody tr th {\n",
       "        vertical-align: top;\n",
       "    }\n",
       "\n",
       "    .dataframe thead th {\n",
       "        text-align: right;\n",
       "    }\n",
       "</style>\n",
       "<table border=\"1\" class=\"dataframe\">\n",
       "  <thead>\n",
       "    <tr style=\"text-align: right;\">\n",
       "      <th></th>\n",
       "      <th>District</th>\n",
       "      <th>Region</th>\n",
       "      <th>Population</th>\n",
       "      <th>Total_households</th>\n",
       "      <th>Population_density</th>\n",
       "      <th>Zonning</th>\n",
       "      <th>Avg_Age</th>\n",
       "      <th>literacy_rate_%</th>\n",
       "      <th>people_per_household</th>\n",
       "      <th>Employment_rate</th>\n",
       "      <th>speed_test_count</th>\n",
       "      <th>uptake_rate</th>\n",
       "    </tr>\n",
       "  </thead>\n",
       "  <tbody>\n",
       "    <tr>\n",
       "      <th>7</th>\n",
       "      <td>Soroti</td>\n",
       "      <td>2</td>\n",
       "      <td>363600</td>\n",
       "      <td>69900</td>\n",
       "      <td>148.3</td>\n",
       "      <td>1</td>\n",
       "      <td>16.0</td>\n",
       "      <td>64.2</td>\n",
       "      <td>5.2</td>\n",
       "      <td>70.3</td>\n",
       "      <td>2</td>\n",
       "      <td>0.0006</td>\n",
       "    </tr>\n",
       "  </tbody>\n",
       "</table>\n",
       "</div>"
      ],
      "text/plain": [
       "  District  Region  Population  Total_households  Population_density  Zonning  \\\n",
       "7   Soroti       2      363600             69900               148.3        1   \n",
       "\n",
       "   Avg_Age  literacy_rate_%  people_per_household  Employment_rate  \\\n",
       "7     16.0             64.2                   5.2             70.3   \n",
       "\n",
       "   speed_test_count  uptake_rate  \n",
       "7                 2       0.0006  "
      ]
     },
     "execution_count": 34,
     "metadata": {},
     "output_type": "execute_result"
    }
   ],
   "source": [
    "df.sample()"
   ]
  },
  {
   "cell_type": "code",
   "execution_count": 33,
   "id": "53d74c67",
   "metadata": {},
   "outputs": [],
   "source": [
    "df.columns = df.columns.str.replace(' ', '')"
   ]
  },
  {
   "cell_type": "code",
   "execution_count": 35,
   "id": "3018c9ae",
   "metadata": {},
   "outputs": [],
   "source": [
    "X= df.drop(['District','uptake_rate'], axis=1)\n",
    "y= df['uptake_rate']"
   ]
  },
  {
   "cell_type": "code",
   "execution_count": 38,
   "id": "3cbcf450",
   "metadata": {},
   "outputs": [],
   "source": [
    "# split into train and test\n",
    "X_train, X_test, y_train, y_test = train_test_split(X, \n",
    "                                                    y, \n",
    "                                                    test_size=0.20, \n",
    "                                                    random_state=1)"
   ]
  },
  {
   "cell_type": "code",
   "execution_count": 40,
   "id": "6c56322b",
   "metadata": {},
   "outputs": [],
   "source": [
    "# import regression module\n",
    "from sklearn.linear_model import LinearRegression"
   ]
  },
  {
   "cell_type": "code",
   "execution_count": 41,
   "id": "592e2740",
   "metadata": {},
   "outputs": [],
   "source": [
    "lm=LinearRegression()"
   ]
  },
  {
   "cell_type": "code",
   "execution_count": 42,
   "id": "a72fde8c",
   "metadata": {},
   "outputs": [
    {
     "data": {
      "text/html": [
       "<style>#sk-container-id-1 {color: black;background-color: white;}#sk-container-id-1 pre{padding: 0;}#sk-container-id-1 div.sk-toggleable {background-color: white;}#sk-container-id-1 label.sk-toggleable__label {cursor: pointer;display: block;width: 100%;margin-bottom: 0;padding: 0.3em;box-sizing: border-box;text-align: center;}#sk-container-id-1 label.sk-toggleable__label-arrow:before {content: \"▸\";float: left;margin-right: 0.25em;color: #696969;}#sk-container-id-1 label.sk-toggleable__label-arrow:hover:before {color: black;}#sk-container-id-1 div.sk-estimator:hover label.sk-toggleable__label-arrow:before {color: black;}#sk-container-id-1 div.sk-toggleable__content {max-height: 0;max-width: 0;overflow: hidden;text-align: left;background-color: #f0f8ff;}#sk-container-id-1 div.sk-toggleable__content pre {margin: 0.2em;color: black;border-radius: 0.25em;background-color: #f0f8ff;}#sk-container-id-1 input.sk-toggleable__control:checked~div.sk-toggleable__content {max-height: 200px;max-width: 100%;overflow: auto;}#sk-container-id-1 input.sk-toggleable__control:checked~label.sk-toggleable__label-arrow:before {content: \"▾\";}#sk-container-id-1 div.sk-estimator input.sk-toggleable__control:checked~label.sk-toggleable__label {background-color: #d4ebff;}#sk-container-id-1 div.sk-label input.sk-toggleable__control:checked~label.sk-toggleable__label {background-color: #d4ebff;}#sk-container-id-1 input.sk-hidden--visually {border: 0;clip: rect(1px 1px 1px 1px);clip: rect(1px, 1px, 1px, 1px);height: 1px;margin: -1px;overflow: hidden;padding: 0;position: absolute;width: 1px;}#sk-container-id-1 div.sk-estimator {font-family: monospace;background-color: #f0f8ff;border: 1px dotted black;border-radius: 0.25em;box-sizing: border-box;margin-bottom: 0.5em;}#sk-container-id-1 div.sk-estimator:hover {background-color: #d4ebff;}#sk-container-id-1 div.sk-parallel-item::after {content: \"\";width: 100%;border-bottom: 1px solid gray;flex-grow: 1;}#sk-container-id-1 div.sk-label:hover label.sk-toggleable__label {background-color: #d4ebff;}#sk-container-id-1 div.sk-serial::before {content: \"\";position: absolute;border-left: 1px solid gray;box-sizing: border-box;top: 0;bottom: 0;left: 50%;z-index: 0;}#sk-container-id-1 div.sk-serial {display: flex;flex-direction: column;align-items: center;background-color: white;padding-right: 0.2em;padding-left: 0.2em;position: relative;}#sk-container-id-1 div.sk-item {position: relative;z-index: 1;}#sk-container-id-1 div.sk-parallel {display: flex;align-items: stretch;justify-content: center;background-color: white;position: relative;}#sk-container-id-1 div.sk-item::before, #sk-container-id-1 div.sk-parallel-item::before {content: \"\";position: absolute;border-left: 1px solid gray;box-sizing: border-box;top: 0;bottom: 0;left: 50%;z-index: -1;}#sk-container-id-1 div.sk-parallel-item {display: flex;flex-direction: column;z-index: 1;position: relative;background-color: white;}#sk-container-id-1 div.sk-parallel-item:first-child::after {align-self: flex-end;width: 50%;}#sk-container-id-1 div.sk-parallel-item:last-child::after {align-self: flex-start;width: 50%;}#sk-container-id-1 div.sk-parallel-item:only-child::after {width: 0;}#sk-container-id-1 div.sk-dashed-wrapped {border: 1px dashed gray;margin: 0 0.4em 0.5em 0.4em;box-sizing: border-box;padding-bottom: 0.4em;background-color: white;}#sk-container-id-1 div.sk-label label {font-family: monospace;font-weight: bold;display: inline-block;line-height: 1.2em;}#sk-container-id-1 div.sk-label-container {text-align: center;}#sk-container-id-1 div.sk-container {/* jupyter's `normalize.less` sets `[hidden] { display: none; }` but bootstrap.min.css set `[hidden] { display: none !important; }` so we also need the `!important` here to be able to override the default hidden behavior on the sphinx rendered scikit-learn.org. See: https://github.com/scikit-learn/scikit-learn/issues/21755 */display: inline-block !important;position: relative;}#sk-container-id-1 div.sk-text-repr-fallback {display: none;}</style><div id=\"sk-container-id-1\" class=\"sk-top-container\"><div class=\"sk-text-repr-fallback\"><pre>LinearRegression()</pre><b>In a Jupyter environment, please rerun this cell to show the HTML representation or trust the notebook. <br />On GitHub, the HTML representation is unable to render, please try loading this page with nbviewer.org.</b></div><div class=\"sk-container\" hidden><div class=\"sk-item\"><div class=\"sk-estimator sk-toggleable\"><input class=\"sk-toggleable__control sk-hidden--visually\" id=\"sk-estimator-id-1\" type=\"checkbox\" checked><label for=\"sk-estimator-id-1\" class=\"sk-toggleable__label sk-toggleable__label-arrow\">LinearRegression</label><div class=\"sk-toggleable__content\"><pre>LinearRegression()</pre></div></div></div></div></div>"
      ],
      "text/plain": [
       "LinearRegression()"
      ]
     },
     "execution_count": 42,
     "metadata": {},
     "output_type": "execute_result"
    }
   ],
   "source": [
    "# train model\n",
    "lm.fit(X_train, y_train)"
   ]
  },
  {
   "cell_type": "code",
   "execution_count": 43,
   "id": "bbd96f56",
   "metadata": {},
   "outputs": [
    {
     "data": {
      "text/plain": [
       "(10,)"
      ]
     },
     "execution_count": 43,
     "metadata": {},
     "output_type": "execute_result"
    }
   ],
   "source": [
    "lm.coef_.shape"
   ]
  },
  {
   "cell_type": "code",
   "execution_count": 45,
   "id": "330b899e",
   "metadata": {},
   "outputs": [
    {
     "data": {
      "text/plain": [
       "(10,)"
      ]
     },
     "execution_count": 45,
     "metadata": {},
     "output_type": "execute_result"
    }
   ],
   "source": [
    "X.columns.shape"
   ]
  },
  {
   "cell_type": "code",
   "execution_count": 46,
   "id": "2c5982f7",
   "metadata": {},
   "outputs": [],
   "source": [
    "# extract model coeffs\n",
    "weights = pd.DataFrame(lm.coef_, X.columns, columns=['Coefficient'])"
   ]
  },
  {
   "cell_type": "code",
   "execution_count": 47,
   "id": "a80dbd0f",
   "metadata": {
    "scrolled": true
   },
   "outputs": [
    {
     "data": {
      "text/html": [
       "<div>\n",
       "<style scoped>\n",
       "    .dataframe tbody tr th:only-of-type {\n",
       "        vertical-align: middle;\n",
       "    }\n",
       "\n",
       "    .dataframe tbody tr th {\n",
       "        vertical-align: top;\n",
       "    }\n",
       "\n",
       "    .dataframe thead th {\n",
       "        text-align: right;\n",
       "    }\n",
       "</style>\n",
       "<table border=\"1\" class=\"dataframe\">\n",
       "  <thead>\n",
       "    <tr style=\"text-align: right;\">\n",
       "      <th></th>\n",
       "      <th>Coefficient</th>\n",
       "    </tr>\n",
       "  </thead>\n",
       "  <tbody>\n",
       "    <tr>\n",
       "      <th>Region</th>\n",
       "      <td>3.166913e-04</td>\n",
       "    </tr>\n",
       "    <tr>\n",
       "      <th>Population</th>\n",
       "      <td>7.710678e-08</td>\n",
       "    </tr>\n",
       "    <tr>\n",
       "      <th>Total_households</th>\n",
       "      <td>-3.592515e-07</td>\n",
       "    </tr>\n",
       "    <tr>\n",
       "      <th>Population_density</th>\n",
       "      <td>-5.452934e-06</td>\n",
       "    </tr>\n",
       "    <tr>\n",
       "      <th>Zonning</th>\n",
       "      <td>2.076203e-03</td>\n",
       "    </tr>\n",
       "    <tr>\n",
       "      <th>Avg_Age</th>\n",
       "      <td>6.624691e-03</td>\n",
       "    </tr>\n",
       "    <tr>\n",
       "      <th>literacy_rate_%</th>\n",
       "      <td>4.452618e-04</td>\n",
       "    </tr>\n",
       "    <tr>\n",
       "      <th>people_per_household</th>\n",
       "      <td>-2.646921e-03</td>\n",
       "    </tr>\n",
       "    <tr>\n",
       "      <th>Employment_rate</th>\n",
       "      <td>-3.130791e-04</td>\n",
       "    </tr>\n",
       "    <tr>\n",
       "      <th>speed_test_count</th>\n",
       "      <td>6.399054e-05</td>\n",
       "    </tr>\n",
       "  </tbody>\n",
       "</table>\n",
       "</div>"
      ],
      "text/plain": [
       "                       Coefficient\n",
       "Region                3.166913e-04\n",
       "Population            7.710678e-08\n",
       "Total_households     -3.592515e-07\n",
       "Population_density   -5.452934e-06\n",
       "Zonning               2.076203e-03\n",
       "Avg_Age               6.624691e-03\n",
       "literacy_rate_%       4.452618e-04\n",
       "people_per_household -2.646921e-03\n",
       "Employment_rate      -3.130791e-04\n",
       "speed_test_count      6.399054e-05"
      ]
     },
     "execution_count": 47,
     "metadata": {},
     "output_type": "execute_result"
    }
   ],
   "source": [
    "weights"
   ]
  },
  {
   "cell_type": "code",
   "execution_count": 48,
   "id": "f7165765",
   "metadata": {},
   "outputs": [],
   "source": [
    "from sklearn import metrics\n",
    "import math"
   ]
  },
  {
   "cell_type": "code",
   "execution_count": 50,
   "id": "40b53776",
   "metadata": {},
   "outputs": [],
   "source": [
    "# dictionary of results\n",
    "results_dict = {'Training MSE':\n",
    "                    {\n",
    "                        \"MLR\": metrics.mean_squared_error(y_train, lm.predict(X_train))\n",
    "                    },\n",
    "                'Test MSE':\n",
    "                    {\n",
    "                        \"MLR\": metrics.mean_squared_error(y_test, lm.predict(X_test))\n",
    "                    },\n",
    "                'Test RMSE':\n",
    "                    {\n",
    "                        \"MLR\": math.sqrt(metrics.mean_squared_error(y_test, lm.predict(X_test)))\n",
    "                    }\n",
    "                }"
   ]
  },
  {
   "cell_type": "code",
   "execution_count": 51,
   "id": "a62c7d6e",
   "metadata": {},
   "outputs": [
    {
     "data": {
      "text/html": [
       "<div>\n",
       "<style scoped>\n",
       "    .dataframe tbody tr th:only-of-type {\n",
       "        vertical-align: middle;\n",
       "    }\n",
       "\n",
       "    .dataframe tbody tr th {\n",
       "        vertical-align: top;\n",
       "    }\n",
       "\n",
       "    .dataframe thead th {\n",
       "        text-align: right;\n",
       "    }\n",
       "</style>\n",
       "<table border=\"1\" class=\"dataframe\">\n",
       "  <thead>\n",
       "    <tr style=\"text-align: right;\">\n",
       "      <th></th>\n",
       "      <th>Training MSE</th>\n",
       "      <th>Test MSE</th>\n",
       "      <th>Test RMSE</th>\n",
       "    </tr>\n",
       "  </thead>\n",
       "  <tbody>\n",
       "    <tr>\n",
       "      <th>MLR</th>\n",
       "      <td>0.00015</td>\n",
       "      <td>0.00028</td>\n",
       "      <td>0.016727</td>\n",
       "    </tr>\n",
       "  </tbody>\n",
       "</table>\n",
       "</div>"
      ],
      "text/plain": [
       "     Training MSE  Test MSE  Test RMSE\n",
       "MLR       0.00015   0.00028   0.016727"
      ]
     },
     "execution_count": 51,
     "metadata": {},
     "output_type": "execute_result"
    }
   ],
   "source": [
    "# create dataframe from dictionary\n",
    "metrics = pd.DataFrame(data=results_dict)\n",
    "metrics"
   ]
  },
  {
   "cell_type": "code",
   "execution_count": null,
   "id": "2ed83d78",
   "metadata": {},
   "outputs": [],
   "source": []
  }
 ],
 "metadata": {
  "kernelspec": {
   "display_name": "Python 3 (ipykernel)",
   "language": "python",
   "name": "python3"
  },
  "language_info": {
   "codemirror_mode": {
    "name": "ipython",
    "version": 3
   },
   "file_extension": ".py",
   "mimetype": "text/x-python",
   "name": "python",
   "nbconvert_exporter": "python",
   "pygments_lexer": "ipython3",
   "version": "3.9.13"
  }
 },
 "nbformat": 4,
 "nbformat_minor": 5
}
