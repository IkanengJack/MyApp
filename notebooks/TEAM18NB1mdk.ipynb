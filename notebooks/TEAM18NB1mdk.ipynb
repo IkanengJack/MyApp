{
 "cells": [
  {
   "attachments": {},
   "cell_type": "markdown",
   "metadata": {},
   "source": [
    "# Internship project  - Fibre competitive intensity model\n",
    "© Explore Data Science Academy\n",
    "\n",
    "---\n",
    "### Honour Code\n",
    "\n",
    "I {**Team18**}, confirm - by submitting this document - that the solutions in this notebook are a result of my own work and that I abide by the [EDSA honour code](https://drive.google.com/file/d/1QDCjGZJ8-FmJE3bZdIQNwnJyQKPhHZBn/view?usp=sharing).\n",
    "\n",
    "Non-compliance with the honour code constitutes a material breach of contract."
   ]
  },
  {
   "attachments": {},
   "cell_type": "markdown",
   "metadata": {},
   "source": [
    "<a id=\"cont\"></a>\n",
    "\n",
    "## Table of Contents\n",
    "\n",
    "\n",
    "<a href=#a>Introduction</a>\n",
    "\n",
    "<a href=#b>Problem statement</a>\n",
    "\n",
    "#### Section 1: Data Pre-processing\n",
    "\n",
    "<a href=#one>1.1 Importing Packages</a>\n",
    "\n",
    "<a href=#two>1.2 Loading Data</a>\n",
    "\n",
    "<a href=#three>1.3 Exploratory Data Analysis (EDA)</a>\n",
    "\n",
    "<a href=#four>1.4 Data Engineering</a>\n",
    "\n",
    "#### Section 2: Model Development and Analysis\n",
    "\n",
    "<a href=#five>2.1 Modeling</a>\n",
    "\n",
    "<a href=#six>2.2 Model Performance</a>\n",
    "\n",
    "#### Section 3: Model Explanation and Conclusions\n",
    "\n",
    "<a href=#seven>3.1 Model Explanations</a>"
   ]
  },
  {
   "attachments": {},
   "cell_type": "markdown",
   "metadata": {},
   "source": [
    " <a id=\"a\"></a>\n",
    "\n",
    "# Introduction\n",
    "\n",
    "\n",
    "\n",
    " <a href=#cont>Back to Table of Contents</a>\n",
    "The effects of uninterrupted electricity supply for households and businesses cannot be overemphasized. As non-renewable energy sources become depleted, it is imperative for countries to reasonably transition into renewables. The government of Spain is considering an expansion of its renewable energy resource infrastructure investments. Thus, they require information on the trends and patterns of the countries renewable sources and fossil fuel energy generation. \n",
    "\n",
    "To achieve this aim, our team is developing a Machine Learning (ML) driven app that aims to predict the uptake of fibre optic connections for telecommunication companies. The app will provide accurate predictions that can help companies plan their resources and infrastructure accordingly. This Notebook has been so adapted and developed by **Team18** - a group of five students from the July 2022 cohort of the Explore Ai Academy **Data Science and data Engineering** courses. We are:\n",
    "\n",
    " > Kamogelo <br>\n",
    " > David Mugambi <br>\n",
    " > Ikaneng Jack <br>\n",
    " > Omolayo Ipinsanmi <br>\n",
    " > Atunima <br>\n",
    " > \n",
    "\n"
   ]
  },
  {
   "attachments": {},
   "cell_type": "markdown",
   "metadata": {},
   "source": [
    "\n",
    " <a id=\"b\"></a>\n",
    "\n",
    "\n",
    "### Problem Statement\n",
    "\n",
    "<a href=#cont>Back to Table of Contents</a>\n",
    "\n",
    "---\n",
    "The scenario was given to Team18, a team of senior data scientists, by our manager via email and we have developed a problem statement as follows:\n",
    "\n",
    "- Telco companies have limited data-driven tools to support future fiber roll-out plans from a revenue perspective (e.g., HH uptake rates, competitive roll-outs,…)\n",
    "- Current SaaS solutions mainly focus on advanced cost calculations (Comsof, Netadmin, etc) but fail to support possible expansion areas from a ROI point of view\n",
    "- Project would consist in creating a tool which can predict revenue (based on HH uptake & competition) across geographies based on publicly available information, as granular as possible\n",
    "- The userface output would consist of a visual map showing most attractive fiber roll-out areas, including a dashboard showing the underlying unit economics for that area (revenue, costs, ROI)\n",
    "- The underlying scalable algorithm and database would be based on free open source data where we aim to identify unique commercial tenant's and households geospatially and provide meta data for each of these locations such as\n",
    "    - commercial vs residential.\n",
    "    - Multi dwelling unit vs single dwelling unit.\n",
    "    - Expected people per household.\n",
    "    - Demographic info and Behavioural info. i.e. age, income, internet usage.\n",
    "- We would create data sets for Uganda, Malasya and townships in South Africa (part of Isizwe project)\n",
    "\n",
    "\n",
    "### Objectives\n",
    "\n",
    "The project will \n",
    "\n",
    "- 1. Determine, identify and collect relevant data;\n",
    "- 2. Determine, identify and catalogue user needs;\n",
    "- 3. identify potential errors in the data and clean the data set;\n",
    "- 4. determine what features can be added to enrich user experience;\n",
    "- 5. build a model that is capable of forecasting uptake of fibre fixed data services;\n",
    "- 6. evaluate the accuracy of the best machine learning model;\n",
    "- 7. determine what features were most important in the model’s prediction decision;\n",
    "- 8. Develop an application to help users predict uptake in various geographical locations;\n",
    "- 9. Develop additional functionalities such as determining ROI; and\n",
    "- 8. explain the inner working of the model to a non-technical audience."
   ]
  },
  {
   "attachments": {},
   "cell_type": "markdown",
   "metadata": {},
   "source": [
    "This document presents a technical account of the process undertaken to attain the set objective. The Notebook is structured into three primary sections. The first section comprises the data pre-processing stage and encompasses all the necessary steps taken to manipulate the datasets. It outlines the procedures for importing packages, loading the data, carrying out the exploratory data analysis (EDA), and executing data engineering.\n",
    "\n",
    "The second section centers on model development and analysis, incorporating model performance and enhancement. Lastly, the third section concentrates on model explanations and conclusions drawn from the analysis."
   ]
  },
  {
   "attachments": {},
   "cell_type": "markdown",
   "metadata": {},
   "source": [
    " <a id=\"one\"></a>\n",
    "## 1.1 Importing Packages\n",
    "<a href=#cont>Back to Table of Contents</a>\n",
    "\n",
    "---\n",
    " Below are the libraries imported for use in this project. The libraries include the pandas library for data mnipulation and analysis, numpy for working with arrays, matplotlib for creating interactive visualisations, seaborn for making statistical graphics(plot graphs), and sklearn for machine learning and statisctical modelling. "
   ]
  },
  {
   "cell_type": "code",
   "execution_count": 1,
   "metadata": {},
   "outputs": [],
   "source": [
    "# Libraries for data loading, data manipulation and data visulisation\n",
    "import pandas as pd\n",
    "import numpy as np\n",
    "import matplotlib.pyplot as plt\n",
    "import seaborn as sns\n",
    "import pickle\n",
    "\n",
    "# Libraries for data preparation and model building\n",
    "import math\n",
    "import sklearn"
   ]
  },
  {
   "attachments": {},
   "cell_type": "markdown",
   "metadata": {},
   "source": [
    "<a id=\"two\"></a>\n",
    "## 1.2 Loading the Data\n",
    "<a class=\"anchor\" id=\"1.1\"></a>\n",
    "<a href=#cont>Back to Table of Contents</a>\n",
    "\n",
    "---\n",
    "    "
   ]
  },
  {
   "cell_type": "code",
   "execution_count": null,
   "metadata": {},
   "outputs": [],
   "source": []
  },
  {
   "attachments": {},
   "cell_type": "markdown",
   "metadata": {},
   "source": [
    "<a id=\"three\"></a>\n",
    "## 1.3 Exploratory Data Analysis (EDA)\n",
    "<a class=\"anchor\" id=\"1.1\"></a>\n",
    "<a href=#cont>Back to Table of Contents</a>\n",
    "\n",
    "---"
   ]
  },
  {
   "cell_type": "code",
   "execution_count": null,
   "metadata": {},
   "outputs": [],
   "source": []
  },
  {
   "attachments": {},
   "cell_type": "markdown",
   "metadata": {},
   "source": [
    "<a id=\"four\"></a>\n",
    "## 1.4 Data Engineering\n",
    "<a class=\"anchor\" id=\"1.1\"></a>\n",
    "<a href=#cont>Back to Table of Contents</a>\n",
    "\n",
    "---"
   ]
  },
  {
   "cell_type": "code",
   "execution_count": null,
   "metadata": {},
   "outputs": [],
   "source": []
  },
  {
   "attachments": {},
   "cell_type": "markdown",
   "metadata": {},
   "source": [
    "# <a id=\"five\"></a>\n",
    "## 2.1 Modelling\n",
    "<a class=\"anchor\" id=\"1.1\"></a>\n",
    "<a href=#cont>Back to Table of Contents</a>\n",
    "\n",
    "---"
   ]
  },
  {
   "cell_type": "code",
   "execution_count": null,
   "metadata": {},
   "outputs": [],
   "source": []
  },
  {
   "attachments": {},
   "cell_type": "markdown",
   "metadata": {},
   "source": [
    "<a id=\"six\"></a>\n",
    "## 2.2 Model Performance\n",
    "<a class=\"anchor\" id=\"1.1\"></a>\n",
    "<a href=#cont>Back to Table of Contents</a>\n",
    "\n",
    "---"
   ]
  },
  {
   "cell_type": "code",
   "execution_count": null,
   "metadata": {},
   "outputs": [],
   "source": []
  },
  {
   "attachments": {},
   "cell_type": "markdown",
   "metadata": {},
   "source": [
    "<a id=\"seven\"></a>\n",
    "## 3.1 Model Explanation and Conclusions\n",
    "<a class=\"anchor\" id=\"1.1\"></a>\n",
    "<a href=#cont>Back to Table of Contents</a>\n",
    "\n",
    "---"
   ]
  },
  {
   "cell_type": "code",
   "execution_count": null,
   "metadata": {},
   "outputs": [],
   "source": []
  },
  {
   "cell_type": "markdown",
   "metadata": {},
   "source": []
  }
 ],
 "metadata": {
  "kernelspec": {
   "display_name": "Python 3",
   "language": "python",
   "name": "python3"
  },
  "language_info": {
   "codemirror_mode": {
    "name": "ipython",
    "version": 3
   },
   "file_extension": ".py",
   "mimetype": "text/x-python",
   "name": "python",
   "nbconvert_exporter": "python",
   "pygments_lexer": "ipython3",
   "version": "3.9.7"
  },
  "orig_nbformat": 4
 },
 "nbformat": 4,
 "nbformat_minor": 2
}
